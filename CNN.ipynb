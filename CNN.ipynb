{
 "cells": [
  {
   "cell_type": "code",
   "execution_count": 23,
   "id": "a4ef2676-629f-4791-be7c-3aeedcb61513",
   "metadata": {},
   "outputs": [],
   "source": [
    "import numpy as np\n",
    "import pandas as pd\n",
    "import matplotlib.pyplot as plt\n",
    "from sklearn.model_selection import train_test_split\n",
    "from sklearn.metrics import classification_report\n",
    "import tensorflow as tf\n",
    "from tensorflow import keras\n",
    "from keras.models import Sequential \n",
    "from keras.layers import Flatten, Dense, Dropout, Conv2D, MaxPool2D"
   ]
  },
  {
   "cell_type": "code",
   "execution_count": 24,
   "id": "671c3bd2-b9ed-4fb5-8f79-da7b1637f68c",
   "metadata": {},
   "outputs": [],
   "source": [
    "(xtrain,ytrain),(xtest,ytest) = keras.datasets.cifar10.load_data()"
   ]
  },
  {
   "cell_type": "code",
   "execution_count": 25,
   "id": "cbf184f2-5d27-46b0-96cd-b265b85cf6fc",
   "metadata": {},
   "outputs": [],
   "source": [
    "xtrain=xtrain/255\n",
    "xtest=xtest/255"
   ]
  },
  {
   "cell_type": "code",
   "execution_count": 26,
   "id": "4ec19a11-c3bf-4f9d-9ed1-553df228a099",
   "metadata": {},
   "outputs": [],
   "source": [
    "classes = [\"airplane\",\"automobile\",\"bird\",\"cat\",\"deer\",\"dog\",\"frog\",\"horse\",\"ship\",\"truck\"]"
   ]
  },
  {
   "cell_type": "code",
   "execution_count": 5,
   "id": "a51499fa-1ea3-4fd7-98a2-0ab945a44ce8",
   "metadata": {},
   "outputs": [],
   "source": [
    "def fig_display(X,Y,index):\n",
    "    plt.figure(figsize=(5,2))\n",
    "    plt.matshow(X[index])\n",
    "    print(classes[Y[index][0]])    "
   ]
  },
  {
   "cell_type": "code",
   "execution_count": 6,
   "id": "04eb83da-5e0a-40ac-b803-aabc29098f14",
   "metadata": {},
   "outputs": [],
   "source": [
    "model=keras.Sequential([\n",
    "    ##conv, pooling\n",
    "    keras.layers.Conv2D(filters=32,kernel_size=(3,3),input_shape=(32,32,3),activation='relu'),\n",
    "    keras.layers.MaxPool2D((2,2)), #keras.layers.AveragePooling2D  \n",
    "    keras.layers.Conv2D(filters=64,kernel_size=(3,3),activation='relu'),\n",
    "    keras.layers.MaxPool2D((2,2)),\n",
    "    ##ANN\n",
    "    keras.layers.Flatten(),\n",
    "    keras.layers.Dense(64,activation='relu'),\n",
    "    keras.layers.Dense(10, activation='softmax'),\n",
    "])\n",
    "\n",
    "\n",
    "model.compile(optimizer='adam',\n",
    "              loss='sparse_categorical_crossentropy',\n",
    "               metrics=['accuracy'])"
   ]
  },
  {
   "cell_type": "code",
   "execution_count": 7,
   "id": "41073eaf-0541-4dc0-8dc0-0264109d63f5",
   "metadata": {},
   "outputs": [
    {
     "name": "stdout",
     "output_type": "stream",
     "text": [
      "Epoch 1/10\n",
      "1563/1563 [==============================] - 25s 16ms/step - loss: 1.5119 - accuracy: 0.4558\n",
      "Epoch 2/10\n",
      "1563/1563 [==============================] - 26s 17ms/step - loss: 1.1411 - accuracy: 0.5995\n",
      "Epoch 3/10\n",
      "1563/1563 [==============================] - 22s 14ms/step - loss: 1.0084 - accuracy: 0.6490\n",
      "Epoch 4/10\n",
      "1563/1563 [==============================] - 22s 14ms/step - loss: 0.9280 - accuracy: 0.6786\n",
      "Epoch 5/10\n",
      "1563/1563 [==============================] - 22s 14ms/step - loss: 0.8682 - accuracy: 0.6991\n",
      "Epoch 6/10\n",
      "1563/1563 [==============================] - 26s 16ms/step - loss: 0.8125 - accuracy: 0.7190\n",
      "Epoch 7/10\n",
      "1563/1563 [==============================] - 26s 17ms/step - loss: 0.7674 - accuracy: 0.7340\n",
      "Epoch 8/10\n",
      "1563/1563 [==============================] - 27s 17ms/step - loss: 0.7258 - accuracy: 0.7500\n",
      "Epoch 9/10\n",
      "1563/1563 [==============================] - 27s 17ms/step - loss: 0.6910 - accuracy: 0.7609\n",
      "Epoch 10/10\n",
      "1563/1563 [==============================] - 27s 17ms/step - loss: 0.6598 - accuracy: 0.7708\n"
     ]
    },
    {
     "data": {
      "text/plain": [
       "<keras.src.callbacks.History at 0x13a5e9050>"
      ]
     },
     "execution_count": 7,
     "metadata": {},
     "output_type": "execute_result"
    }
   ],
   "source": [
    "model.fit(xtrain,ytrain, epochs=10)"
   ]
  },
  {
   "cell_type": "code",
   "execution_count": 9,
   "id": "d98c6002-78b2-4f19-8ff7-b15e3ae0d876",
   "metadata": {},
   "outputs": [
    {
     "name": "stdout",
     "output_type": "stream",
     "text": [
      "313/313 [==============================] - 1s 4ms/step - loss: 0.9182 - accuracy: 0.6958\n"
     ]
    },
    {
     "data": {
      "text/plain": [
       "[0.9182319045066833, 0.6958000063896179]"
      ]
     },
     "execution_count": 9,
     "metadata": {},
     "output_type": "execute_result"
    }
   ],
   "source": [
    "model.evaluate(xtest,ytest)"
   ]
  },
  {
   "cell_type": "code",
   "execution_count": 10,
   "id": "7db5746c-b60a-4b7c-b091-1389674010ac",
   "metadata": {},
   "outputs": [
    {
     "name": "stdout",
     "output_type": "stream",
     "text": [
      "313/313 [==============================] - 1s 4ms/step\n"
     ]
    }
   ],
   "source": [
    "ypred=model.predict(xtest)\n",
    "ypred_cat=[np.argmax(ypred[i]) for i in range(0,ypred.shape[0])]"
   ]
  },
  {
   "cell_type": "code",
   "execution_count": 11,
   "id": "cbac26c0-f6b3-497e-95eb-4d71e1ebec28",
   "metadata": {},
   "outputs": [
    {
     "name": "stdout",
     "output_type": "stream",
     "text": [
      "              precision    recall  f1-score   support\n",
      "\n",
      "           0       0.79      0.67      0.72      1000\n",
      "           1       0.88      0.75      0.81      1000\n",
      "           2       0.75      0.45      0.56      1000\n",
      "           3       0.48      0.56      0.52      1000\n",
      "           4       0.60      0.71      0.65      1000\n",
      "           5       0.60      0.57      0.59      1000\n",
      "           6       0.81      0.73      0.77      1000\n",
      "           7       0.69      0.82      0.75      1000\n",
      "           8       0.71      0.87      0.79      1000\n",
      "           9       0.76      0.83      0.79      1000\n",
      "\n",
      "    accuracy                           0.70     10000\n",
      "   macro avg       0.71      0.70      0.69     10000\n",
      "weighted avg       0.71      0.70      0.69     10000\n",
      "\n"
     ]
    }
   ],
   "source": [
    "print(classification_report(ytest,ypred_cat))"
   ]
  },
  {
   "cell_type": "code",
   "execution_count": 27,
   "id": "1461af3c-7bd9-4c91-815d-38042c0326a0",
   "metadata": {},
   "outputs": [],
   "source": [
    "#CNN using agumentation (RandomFlip,RandomRotation,RandomZoom)"
   ]
  },
  {
   "cell_type": "code",
   "execution_count": 28,
   "id": "2703346d-4aa2-48fb-9add-4530db971775",
   "metadata": {},
   "outputs": [],
   "source": [
    "data_agumentation=keras.Sequential([\n",
    "    keras.layers.experimental.preprocessing.RandomFlip(\"horizontal\"),\n",
    "    keras.layers.experimental.preprocessing.RandomRotation(0.1),\n",
    "    keras.layers.experimental.preprocessing.RandomZoom(0.1),\n",
    "    \n",
    "])"
   ]
  },
  {
   "cell_type": "code",
   "execution_count": 15,
   "id": "c9396e7c-c805-4bbb-b7f0-1662046cef8d",
   "metadata": {},
   "outputs": [],
   "source": [
    "#plt.imshow(data_agumentation(xtrain[1]))"
   ]
  },
  {
   "cell_type": "code",
   "execution_count": 29,
   "id": "ff138909-bf66-40cd-9ffb-a660f611224a",
   "metadata": {},
   "outputs": [
    {
     "name": "stdout",
     "output_type": "stream",
     "text": [
      "Epoch 1/10\n",
      "1563/1563 [==============================] - 35s 22ms/step - loss: 1.5940 - accuracy: 0.4221\n",
      "Epoch 2/10\n",
      "1563/1563 [==============================] - 33s 21ms/step - loss: 1.3252 - accuracy: 0.5296\n",
      "Epoch 3/10\n",
      "1563/1563 [==============================] - 33s 21ms/step - loss: 1.2399 - accuracy: 0.5606\n",
      "Epoch 4/10\n",
      "1563/1563 [==============================] - 33s 21ms/step - loss: 1.1837 - accuracy: 0.5819\n",
      "Epoch 5/10\n",
      "1563/1563 [==============================] - 33s 21ms/step - loss: 1.1464 - accuracy: 0.5957\n",
      "Epoch 6/10\n",
      "1563/1563 [==============================] - 33s 21ms/step - loss: 1.1130 - accuracy: 0.6084\n",
      "Epoch 7/10\n",
      "1563/1563 [==============================] - 33s 21ms/step - loss: 1.0858 - accuracy: 0.6197\n",
      "Epoch 8/10\n",
      "1563/1563 [==============================] - 34s 22ms/step - loss: 1.0622 - accuracy: 0.6291\n",
      "Epoch 9/10\n",
      "1563/1563 [==============================] - 34s 22ms/step - loss: 1.0386 - accuracy: 0.6332\n",
      "Epoch 10/10\n",
      "1563/1563 [==============================] - 34s 22ms/step - loss: 1.0273 - accuracy: 0.6407\n"
     ]
    },
    {
     "data": {
      "text/plain": [
       "<keras.src.callbacks.History at 0x13ba78e50>"
      ]
     },
     "execution_count": 29,
     "metadata": {},
     "output_type": "execute_result"
    }
   ],
   "source": [
    "model=keras.Sequential([\n",
    "    ##data agumentation\n",
    "    data_agumentation,    \n",
    "    ##conv, pooling\n",
    "    keras.layers.Conv2D(filters=32,kernel_size=(3,3),input_shape=(32,32,3),activation='relu'),\n",
    "    keras.layers.MaxPool2D((2,2)), #keras.layers.AveragePooling2D  \n",
    "    keras.layers.Conv2D(filters=64,kernel_size=(3,3),activation='relu'),\n",
    "    keras.layers.MaxPool2D((2,2)),\n",
    "    ##ANN\n",
    "    keras.layers.Flatten(),\n",
    "    keras.layers.Dense(64,activation='relu'),\n",
    "    keras.layers.Dense(10, activation='softmax'),\n",
    "])\n",
    "\n",
    "\n",
    "model.compile(optimizer='adam',\n",
    "              loss='sparse_categorical_crossentropy',\n",
    "               metrics=['accuracy'])\n",
    "\n",
    "model.fit(xtrain,ytrain, epochs=10)"
   ]
  },
  {
   "cell_type": "code",
   "execution_count": 30,
   "id": "1d284398-a79d-4c94-84a0-582df84cad97",
   "metadata": {},
   "outputs": [
    {
     "name": "stdout",
     "output_type": "stream",
     "text": [
      "313/313 [==============================] - 1s 4ms/step - loss: 1.0189 - accuracy: 0.6531\n"
     ]
    },
    {
     "data": {
      "text/plain": [
       "[1.0189266204833984, 0.6531000137329102]"
      ]
     },
     "execution_count": 30,
     "metadata": {},
     "output_type": "execute_result"
    }
   ],
   "source": [
    "model.evaluate(xtest,ytest)"
   ]
  },
  {
   "cell_type": "code",
   "execution_count": 23,
   "id": "3ea597d2-ada9-4ac9-9643-8552799241c5",
   "metadata": {},
   "outputs": [],
   "source": [
    "#datasets.mnist handwritten image classification ANN vs CNN"
   ]
  },
  {
   "cell_type": "code",
   "execution_count": 19,
   "id": "ac41cc03-7452-4053-985a-7a08f95d2bfc",
   "metadata": {},
   "outputs": [],
   "source": [
    "(xtrain,ytrain),(xtest,ytest) = keras.datasets.mnist.load_data()"
   ]
  },
  {
   "cell_type": "code",
   "execution_count": 42,
   "id": "788c4809-d0fc-4f47-8f0a-7fac6cd96017",
   "metadata": {},
   "outputs": [],
   "source": [
    "xtrain=xtrain/255\n",
    "xtest=xtest/255"
   ]
  },
  {
   "cell_type": "code",
   "execution_count": 4,
   "id": "f707d603-d244-4925-add5-351e125d56af",
   "metadata": {},
   "outputs": [
    {
     "name": "stdout",
     "output_type": "stream",
     "text": [
      "Epoch 1/10\n",
      "1875/1875 [==============================] - 5s 2ms/step - loss: 0.2742 - accuracy: 0.9225\n",
      "Epoch 2/10\n",
      "1875/1875 [==============================] - 4s 2ms/step - loss: 0.1266 - accuracy: 0.9634\n",
      "Epoch 3/10\n",
      "1875/1875 [==============================] - 4s 2ms/step - loss: 0.0892 - accuracy: 0.9736\n",
      "Epoch 4/10\n",
      "1875/1875 [==============================] - 4s 2ms/step - loss: 0.0678 - accuracy: 0.9797\n",
      "Epoch 5/10\n",
      "1875/1875 [==============================] - 4s 2ms/step - loss: 0.0538 - accuracy: 0.9835\n",
      "Epoch 6/10\n",
      "1875/1875 [==============================] - 4s 2ms/step - loss: 0.0432 - accuracy: 0.9867\n",
      "Epoch 7/10\n",
      "1875/1875 [==============================] - 4s 2ms/step - loss: 0.0350 - accuracy: 0.9894\n",
      "Epoch 8/10\n",
      "1875/1875 [==============================] - 4s 2ms/step - loss: 0.0301 - accuracy: 0.9904\n",
      "Epoch 9/10\n",
      "1875/1875 [==============================] - 4s 2ms/step - loss: 0.0248 - accuracy: 0.9924\n",
      "Epoch 10/10\n",
      "1875/1875 [==============================] - 4s 2ms/step - loss: 0.0197 - accuracy: 0.9942\n"
     ]
    },
    {
     "data": {
      "text/plain": [
       "<keras.src.callbacks.History at 0x13c8c3490>"
      ]
     },
     "execution_count": 4,
     "metadata": {},
     "output_type": "execute_result"
    }
   ],
   "source": [
    "##ANN\n",
    "model=keras.Sequential([\n",
    "    keras.layers.Flatten(input_shape=(28,28)),\n",
    "    keras.layers.Dense(100,activation='relu'),\n",
    "    keras.layers.Dense(10, activation='sigmoid'),\n",
    "])\n",
    "\n",
    "\n",
    "model.compile(optimizer='adam',\n",
    "              loss='sparse_categorical_crossentropy',\n",
    "               metrics=['accuracy'])\n",
    "model.fit(xtrain,ytrain,epochs=10)"
   ]
  },
  {
   "cell_type": "code",
   "execution_count": 5,
   "id": "dde22d26-3b23-40d3-95ce-899e6d5a01ef",
   "metadata": {},
   "outputs": [
    {
     "name": "stdout",
     "output_type": "stream",
     "text": [
      "313/313 [==============================] - 1s 1ms/step - loss: 0.0834 - accuracy: 0.9786\n",
      "313/313 [==============================] - 0s 1ms/step\n"
     ]
    }
   ],
   "source": [
    "model.evaluate(xtest,ytest)\n",
    "ypred=model.predict(xtest)\n",
    "ypred_cat=[np.argmax(ypred[i]) for i in range(0,ypred.shape[0])]"
   ]
  },
  {
   "cell_type": "code",
   "execution_count": 6,
   "id": "d750c35d-97fa-4415-9a09-1720f32f93b8",
   "metadata": {},
   "outputs": [
    {
     "name": "stdout",
     "output_type": "stream",
     "text": [
      "              precision    recall  f1-score   support\n",
      "\n",
      "           0       0.98      0.99      0.98       980\n",
      "           1       0.99      0.99      0.99      1135\n",
      "           2       0.98      0.97      0.97      1032\n",
      "           3       0.99      0.97      0.98      1010\n",
      "           4       0.98      0.97      0.98       982\n",
      "           5       0.98      0.98      0.98       892\n",
      "           6       0.97      0.99      0.98       958\n",
      "           7       0.97      0.98      0.98      1028\n",
      "           8       0.98      0.97      0.97       974\n",
      "           9       0.98      0.97      0.97      1009\n",
      "\n",
      "    accuracy                           0.98     10000\n",
      "   macro avg       0.98      0.98      0.98     10000\n",
      "weighted avg       0.98      0.98      0.98     10000\n",
      "\n"
     ]
    }
   ],
   "source": [
    "print(classification_report(ytest, ypred_cat))"
   ]
  },
  {
   "cell_type": "code",
   "execution_count": 20,
   "id": "cafb74be-d6b8-427c-a7ad-d22a85355cef",
   "metadata": {},
   "outputs": [],
   "source": [
    "xtrain_reshape=xtrain.reshape(-1,28,28,1)\n",
    "xtest_reshape=xtest.reshape(-1,28,28,1)"
   ]
  },
  {
   "cell_type": "code",
   "execution_count": 8,
   "id": "fdc6f327-0acf-488f-9c39-518e224b9d69",
   "metadata": {},
   "outputs": [],
   "source": [
    "#CNN\n",
    "model=keras.Sequential([\n",
    "    ##conv, pooling\n",
    "    keras.layers.Conv2D(filters=28,kernel_size=(3,3),input_shape=(28,28,1),activation='relu'),\n",
    "    keras.layers.MaxPool2D((2,2)),\n",
    "    keras.layers.Conv2D(filters=56,kernel_size=(3,3),activation='relu'),\n",
    "    keras.layers.MaxPool2D((2,2)),\n",
    "    ##ANN\n",
    "    keras.layers.Flatten(),\n",
    "    keras.layers.Dense(56,activation='relu'),\n",
    "    keras.layers.Dense(10, activation='softmax'),\n",
    "])\n",
    "\n",
    "\n",
    "model.compile(optimizer='adam',\n",
    "              loss='sparse_categorical_crossentropy',\n",
    "               metrics=['accuracy'])"
   ]
  },
  {
   "cell_type": "code",
   "execution_count": 9,
   "id": "67b3607b-5bae-484b-b327-38612d1cfc71",
   "metadata": {},
   "outputs": [
    {
     "name": "stdout",
     "output_type": "stream",
     "text": [
      "Epoch 1/10\n",
      "1875/1875 [==============================] - 24s 12ms/step - loss: 0.1468 - accuracy: 0.9549\n",
      "Epoch 2/10\n",
      "1875/1875 [==============================] - 26s 14ms/step - loss: 0.0491 - accuracy: 0.9853\n",
      "Epoch 3/10\n",
      "1875/1875 [==============================] - 31s 17ms/step - loss: 0.0345 - accuracy: 0.9890\n",
      "Epoch 4/10\n",
      "1875/1875 [==============================] - 26s 14ms/step - loss: 0.0248 - accuracy: 0.9923\n",
      "Epoch 5/10\n",
      "1875/1875 [==============================] - 28s 15ms/step - loss: 0.0195 - accuracy: 0.9940\n",
      "Epoch 6/10\n",
      "1875/1875 [==============================] - 25s 13ms/step - loss: 0.0164 - accuracy: 0.9946\n",
      "Epoch 7/10\n",
      "1875/1875 [==============================] - 26s 14ms/step - loss: 0.0119 - accuracy: 0.9962\n",
      "Epoch 8/10\n",
      "1875/1875 [==============================] - 25s 13ms/step - loss: 0.0104 - accuracy: 0.9966\n",
      "Epoch 9/10\n",
      "1875/1875 [==============================] - 26s 14ms/step - loss: 0.0098 - accuracy: 0.9967\n",
      "Epoch 10/10\n",
      "1875/1875 [==============================] - 24s 13ms/step - loss: 0.0073 - accuracy: 0.9977\n"
     ]
    },
    {
     "data": {
      "text/plain": [
       "<keras.src.callbacks.History at 0x13d024f50>"
      ]
     },
     "execution_count": 9,
     "metadata": {},
     "output_type": "execute_result"
    }
   ],
   "source": [
    "model.fit(xtrain_reshape,ytrain,epochs=10)"
   ]
  },
  {
   "cell_type": "code",
   "execution_count": 78,
   "id": "c5398fa2-900c-4f07-8b13-58f1608d7062",
   "metadata": {},
   "outputs": [
    {
     "name": "stdout",
     "output_type": "stream",
     "text": [
      "313/313 [==============================] - 1s 4ms/step - loss: 0.0341 - accuracy: 0.9923\n",
      "313/313 [==============================] - 1s 3ms/step\n"
     ]
    }
   ],
   "source": [
    "model.evaluate(xtest_reshape,ytest)\n",
    "ypred=model.predict(xtest_reshape)\n",
    "ypred_cat=[np.argmax(ypred[i]) for i in range(0,ypred.shape[0])]"
   ]
  },
  {
   "cell_type": "code",
   "execution_count": 34,
   "id": "401b343f-5d1f-440a-b240-0f486fef0618",
   "metadata": {},
   "outputs": [],
   "source": [
    "#Conv2D hyper parameters \n",
    "#padding 'valid': No padding and 'same' padding that output is the same size of input\n",
    "#stride size (1,1) vs (2,2) size for moving the filters"
   ]
  },
  {
   "cell_type": "code",
   "execution_count": 44,
   "id": "24d3fa2b-9a30-47fb-ae82-ad62765cb18f",
   "metadata": {},
   "outputs": [],
   "source": [
    "#CNN\n",
    "model=keras.Sequential([\n",
    "    ##conv, pooling\n",
    "    keras.layers.Conv2D(filters=28, padding='same', strides=(2,2), kernel_size=(3,3),input_shape=(28,28,1),activation='relu'),\n",
    "    keras.layers.MaxPool2D((2,2)),\n",
    "    keras.layers.Conv2D(filters=56,kernel_size=(3,3),activation='relu'),\n",
    "    keras.layers.MaxPool2D((2,2)),\n",
    "    ##ANN\n",
    "    keras.layers.Flatten(),\n",
    "    keras.layers.Dense(56,activation='relu'),\n",
    "    keras.layers.Dense(10, activation='softmax'),\n",
    "])\n",
    "\n",
    "\n",
    "model.compile(optimizer='adam',\n",
    "              loss='sparse_categorical_crossentropy',\n",
    "               metrics=['accuracy'])"
   ]
  },
  {
   "cell_type": "code",
   "execution_count": 45,
   "id": "b8d46e9b-339a-45d5-9c78-8fcd06ea9961",
   "metadata": {},
   "outputs": [
    {
     "name": "stdout",
     "output_type": "stream",
     "text": [
      "Epoch 1/10\n",
      "1875/1875 [==============================] - 10s 5ms/step - loss: 0.2351 - accuracy: 0.9289\n",
      "Epoch 2/10\n",
      "1875/1875 [==============================] - 9s 5ms/step - loss: 0.0814 - accuracy: 0.9746\n",
      "Epoch 3/10\n",
      "1875/1875 [==============================] - 11s 6ms/step - loss: 0.0599 - accuracy: 0.9812\n",
      "Epoch 4/10\n",
      "1875/1875 [==============================] - 10s 6ms/step - loss: 0.0474 - accuracy: 0.9855\n",
      "Epoch 5/10\n",
      "1875/1875 [==============================] - 13s 7ms/step - loss: 0.0390 - accuracy: 0.9875\n",
      "Epoch 6/10\n",
      "1875/1875 [==============================] - 10s 5ms/step - loss: 0.0332 - accuracy: 0.9891\n",
      "Epoch 7/10\n",
      "1875/1875 [==============================] - 13s 7ms/step - loss: 0.0273 - accuracy: 0.9912\n",
      "Epoch 8/10\n",
      "1875/1875 [==============================] - 13s 7ms/step - loss: 0.0226 - accuracy: 0.9928\n",
      "Epoch 9/10\n",
      "1875/1875 [==============================] - 12s 6ms/step - loss: 0.0192 - accuracy: 0.9937\n",
      "Epoch 10/10\n",
      "1875/1875 [==============================] - 13s 7ms/step - loss: 0.0157 - accuracy: 0.9948\n"
     ]
    },
    {
     "data": {
      "text/plain": [
       "<keras.src.callbacks.History at 0x1412d1350>"
      ]
     },
     "execution_count": 45,
     "metadata": {},
     "output_type": "execute_result"
    }
   ],
   "source": [
    "model.fit(xtrain_reshape,ytrain,epochs=10)"
   ]
  },
  {
   "cell_type": "code",
   "execution_count": 46,
   "id": "f91a7d5f-4189-454d-873d-1b1b289ea96a",
   "metadata": {},
   "outputs": [
    {
     "name": "stdout",
     "output_type": "stream",
     "text": [
      "313/313 [==============================] - 1s 2ms/step - loss: 0.0442 - accuracy: 0.9856\n"
     ]
    },
    {
     "data": {
      "text/plain": [
       "[0.04416169598698616, 0.9855999946594238]"
      ]
     },
     "execution_count": 46,
     "metadata": {},
     "output_type": "execute_result"
    }
   ],
   "source": [
    "model.evaluate(xtest, ytest)"
   ]
  },
  {
   "cell_type": "code",
   "execution_count": null,
   "id": "f26f6712-586f-4162-809d-0114ea129f44",
   "metadata": {},
   "outputs": [],
   "source": []
  }
 ],
 "metadata": {
  "kernelspec": {
   "display_name": "Python 3 (ipykernel)",
   "language": "python",
   "name": "python3"
  },
  "language_info": {
   "codemirror_mode": {
    "name": "ipython",
    "version": 3
   },
   "file_extension": ".py",
   "mimetype": "text/x-python",
   "name": "python",
   "nbconvert_exporter": "python",
   "pygments_lexer": "ipython3",
   "version": "3.11.5"
  }
 },
 "nbformat": 4,
 "nbformat_minor": 5
}
