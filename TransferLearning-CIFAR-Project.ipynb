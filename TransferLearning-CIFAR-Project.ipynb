{
 "cells": [
  {
   "cell_type": "code",
   "execution_count": null,
   "id": "d285149b",
   "metadata": {},
   "outputs": [],
   "source": [
    "\"\"\"\n",
    "-- The CIFAR-10 dataset consists of 60000 32x32 colour images in 10 classes, with 6000 images per class has been used for image classification project\n",
    "-- Convolutional neural network (CNN) and data agumentaion has been tested for image classification\n",
    "-- Transfer learning with ResNet50 model has been used for image classification\n",
    "-- Transfer learning with ResNet50 model has been used for image classification\n",
    "\"\"\""
   ]
  },
  {
   "cell_type": "code",
   "execution_count": 1,
   "id": "a4ef2676-629f-4791-be7c-3aeedcb61513",
   "metadata": {},
   "outputs": [
    {
     "name": "stderr",
     "output_type": "stream",
     "text": [
      "2024-09-01 16:49:45.675966: I tensorflow/core/platform/cpu_feature_guard.cc:182] This TensorFlow binary is optimized to use available CPU instructions in performance-critical operations.\n",
      "To enable the following instructions: AVX2 FMA, in other operations, rebuild TensorFlow with the appropriate compiler flags.\n"
     ]
    }
   ],
   "source": [
    "import numpy as np\n",
    "import pandas as pd\n",
    "import seaborn as sns\n",
    "import matplotlib.pyplot as plt\n",
    "from sklearn.model_selection import train_test_split\n",
    "from sklearn.metrics import classification_report\n",
    "import tensorflow as tf\n",
    "from tensorflow import keras\n",
    "from keras.models import Sequential \n",
    "from keras.layers import Flatten, Dense, Dropout, Conv2D, MaxPool2D\n",
    "from tensorflow.keras.applications.resnet50 import ResNet50"
   ]
  },
  {
   "cell_type": "code",
   "execution_count": 2,
   "id": "671c3bd2-b9ed-4fb5-8f79-da7b1637f68c",
   "metadata": {},
   "outputs": [],
   "source": [
    "(xtrain,ytrain),(xtest,ytest) = keras.datasets.cifar10.load_data()"
   ]
  },
  {
   "cell_type": "code",
   "execution_count": 25,
   "id": "cbf184f2-5d27-46b0-96cd-b265b85cf6fc",
   "metadata": {},
   "outputs": [],
   "source": [
    "xtrain=xtrain/255\n",
    "xtest=xtest/255"
   ]
  },
  {
   "cell_type": "markdown",
   "id": "567403b9",
   "metadata": {},
   "source": [
    "# Use Convolutional neural network (CNN) and data agumentaion for image classification"
   ]
  },
  {
   "cell_type": "code",
   "execution_count": 8,
   "id": "1a152265",
   "metadata": {},
   "outputs": [],
   "source": [
    "data_agumentation=keras.Sequential([\n",
    "    keras.layers.experimental.preprocessing.RandomFlip(\"horizontal\"),\n",
    "    keras.layers.experimental.preprocessing.RandomRotation(0.1),\n",
    "    keras.layers.experimental.preprocessing.RandomZoom(0.1),\n",
    "    \n",
    "])"
   ]
  },
  {
   "cell_type": "code",
   "execution_count": 9,
   "id": "04eb83da-5e0a-40ac-b803-aabc29098f14",
   "metadata": {},
   "outputs": [],
   "source": [
    "model=keras.Sequential([\n",
    "    data_agumentation,    \n",
    "    keras.layers.Conv2D(filters=32,kernel_size=(3,3),input_shape=(32,32,3),activation='relu'),\n",
    "    keras.layers.MaxPool2D((2,2)), \n",
    "    keras.layers.Conv2D(filters=64,kernel_size=(3,3),activation='relu'),\n",
    "    keras.layers.MaxPool2D((2,2)),\n",
    "  \n",
    "    keras.layers.Flatten(),\n",
    "    keras.layers.Dense(64,activation='relu'),\n",
    "    keras.layers.Dense(10, activation='softmax'),\n",
    "])\n",
    "\n",
    "\n",
    "model.compile(optimizer='adam',\n",
    "              loss='sparse_categorical_crossentropy',\n",
    "               metrics=['accuracy'])"
   ]
  },
  {
   "cell_type": "code",
   "execution_count": 10,
   "id": "41073eaf-0541-4dc0-8dc0-0264109d63f5",
   "metadata": {},
   "outputs": [
    {
     "name": "stdout",
     "output_type": "stream",
     "text": [
      "Epoch 1/10\n",
      "1563/1563 [==============================] - 42s 25ms/step - loss: 2.1509 - accuracy: 0.3020\n",
      "Epoch 2/10\n",
      "1563/1563 [==============================] - 40s 26ms/step - loss: 1.5620 - accuracy: 0.4354\n",
      "Epoch 3/10\n",
      "1563/1563 [==============================] - 45s 29ms/step - loss: 1.4662 - accuracy: 0.4744\n",
      "Epoch 4/10\n",
      "1563/1563 [==============================] - 46s 29ms/step - loss: 1.4036 - accuracy: 0.4984\n",
      "Epoch 5/10\n",
      "1563/1563 [==============================] - 36s 23ms/step - loss: 1.3477 - accuracy: 0.5239\n",
      "Epoch 6/10\n",
      "1563/1563 [==============================] - 35s 23ms/step - loss: 1.3107 - accuracy: 0.5365\n",
      "Epoch 7/10\n",
      "1563/1563 [==============================] - 37s 24ms/step - loss: 1.2738 - accuracy: 0.5506\n",
      "Epoch 8/10\n",
      "1563/1563 [==============================] - 44s 28ms/step - loss: 1.2520 - accuracy: 0.5621\n",
      "Epoch 9/10\n",
      "1563/1563 [==============================] - 43s 28ms/step - loss: 1.2248 - accuracy: 0.5696\n",
      "Epoch 10/10\n",
      "1563/1563 [==============================] - 41s 27ms/step - loss: 1.2074 - accuracy: 0.5796\n"
     ]
    },
    {
     "data": {
      "text/plain": [
       "<keras.src.callbacks.History at 0x13fd359d0>"
      ]
     },
     "execution_count": 10,
     "metadata": {},
     "output_type": "execute_result"
    }
   ],
   "source": [
    "model.fit(xtrain,ytrain, epochs=10)"
   ]
  },
  {
   "cell_type": "code",
   "execution_count": 11,
   "id": "d98c6002-78b2-4f19-8ff7-b15e3ae0d876",
   "metadata": {},
   "outputs": [
    {
     "name": "stdout",
     "output_type": "stream",
     "text": [
      "313/313 [==============================] - 2s 6ms/step - loss: 1.1514 - accuracy: 0.6071\n"
     ]
    },
    {
     "data": {
      "text/plain": [
       "[1.15139901638031, 0.6071000099182129]"
      ]
     },
     "execution_count": 11,
     "metadata": {},
     "output_type": "execute_result"
    }
   ],
   "source": [
    "model.evaluate(xtest,ytest)"
   ]
  },
  {
   "cell_type": "code",
   "execution_count": 12,
   "id": "8dd330c2",
   "metadata": {},
   "outputs": [
    {
     "name": "stdout",
     "output_type": "stream",
     "text": [
      "313/313 [==============================] - 2s 5ms/step\n"
     ]
    },
    {
     "data": {
      "text/plain": [
       "<Axes: >"
      ]
     },
     "execution_count": 12,
     "metadata": {},
     "output_type": "execute_result"
    },
    {
     "data": {
      "image/png": "[encoded data removed]",
      "text/plain": [
       "<Figure size 640x480 with 2 Axes>"
      ]
     },
     "metadata": {},
     "output_type": "display_data"
    }
   ],
   "source": [
    "ypred=model.predict(xtest)\n",
    "ypred=[np.argmax(i) for i in ypred]\n",
    "cm=tf.math.confusion_matrix(ytest,ypred)\n",
    "sns.heatmap(cm, annot=True, cmap=\"coolwarm\")"
   ]
  },
  {
   "cell_type": "code",
   "execution_count": 14,
   "id": "cbac26c0-f6b3-497e-95eb-4d71e1ebec28",
   "metadata": {},
   "outputs": [
    {
     "name": "stdout",
     "output_type": "stream",
     "text": [
      "              precision    recall  f1-score   support\n",
      "\n",
      "           0       0.62      0.71      0.66      1000\n",
      "           1       0.68      0.78      0.73      1000\n",
      "           2       0.68      0.32      0.43      1000\n",
      "           3       0.49      0.24      0.32      1000\n",
      "           4       0.54      0.59      0.56      1000\n",
      "           5       0.52      0.55      0.53      1000\n",
      "           6       0.63      0.75      0.68      1000\n",
      "           7       0.55      0.79      0.65      1000\n",
      "           8       0.78      0.59      0.67      1000\n",
      "           9       0.64      0.75      0.69      1000\n",
      "\n",
      "    accuracy                           0.61     10000\n",
      "   macro avg       0.61      0.61      0.59     10000\n",
      "weighted avg       0.61      0.61      0.59     10000\n",
      "\n"
     ]
    }
   ],
   "source": [
    "print(classification_report(ytest,ypred))"
   ]
  },
  {
   "cell_type": "markdown",
   "id": "2fad196f",
   "metadata": {},
   "source": [
    "# Transfer Learning of image calssification with ResNet50 model"
   ]
  },
  {
   "cell_type": "code",
   "execution_count": 41,
   "id": "3e148877",
   "metadata": {},
   "outputs": [],
   "source": [
    "base_model = tf.keras.applications.ResNet50(weights='imagenet', include_top=False, input_shape=(224, 224, 3))\n",
    "base_model.trainable = False\n",
    "\n",
    "def ResNet_model():\n",
    "    inputs = tf.keras.layers.Input(shape=(32,32,3))\n",
    "    resize = tf.keras.layers.UpSampling2D(size=(7,7))(inputs)\n",
    "    x=base_model(resize)\n",
    "    x = tf.keras.layers.GlobalAveragePooling2D()(x)\n",
    "    x = tf.keras.layers.Flatten()(x)\n",
    "    x = tf.keras.layers.Dense(1024, activation=\"relu\")(x)\n",
    "    x = tf.keras.layers.Dense(512, activation=\"relu\")(x)\n",
    "    x = tf.keras.layers.Dense(10, activation=\"softmax\", name=\"classification\")(x)\n",
    "    model = tf.keras.Model(inputs=inputs, outputs = x)\n",
    "     \n",
    "    model.compile(optimizer='SGD',\n",
    "                loss='sparse_categorical_crossentropy',\n",
    "                metrics = ['accuracy'])\n",
    "    return model"
   ]
  },
  {
   "cell_type": "code",
   "execution_count": 42,
   "id": "c2b53007",
   "metadata": {},
   "outputs": [
    {
     "name": "stdout",
     "output_type": "stream",
     "text": [
      "Model: \"model_6\"\n",
      "_________________________________________________________________\n",
      " Layer (type)                Output Shape              Param #   \n",
      "=================================================================\n",
      " input_18 (InputLayer)       [(None, 32, 32, 3)]       0         \n",
      "                                                                 \n",
      " up_sampling2d_8 (UpSamplin  (None, 224, 224, 3)       0         \n",
      " g2D)                                                            \n",
      "                                                                 \n",
      " resnet50 (Functional)       (None, 7, 7, 2048)        23587712  \n",
      "                                                                 \n",
      " global_average_pooling2d_6  (None, 2048)              0         \n",
      "  (GlobalAveragePooling2D)                                       \n",
      "                                                                 \n",
      " flatten_8 (Flatten)         (None, 2048)              0         \n",
      "                                                                 \n",
      " dense_16 (Dense)            (None, 1024)              2098176   \n",
      "                                                                 \n",
      " dense_17 (Dense)            (None, 512)               524800    \n",
      "                                                                 \n",
      " classification (Dense)      (None, 10)                5130      \n",
      "                                                                 \n",
      "=================================================================\n",
      "Total params: 26215818 (100.01 MB)\n",
      "Trainable params: 2628106 (10.03 MB)\n",
      "Non-trainable params: 23587712 (89.98 MB)\n",
      "_________________________________________________________________\n"
     ]
    }
   ],
   "source": [
    "model=ResNet_model()\n",
    "model.summary()"
   ]
  },
  {
   "cell_type": "code",
   "execution_count": 43,
   "id": "1f14b3dd",
   "metadata": {},
   "outputs": [
    {
     "name": "stdout",
     "output_type": "stream",
     "text": [
      "Epoch 1/3\n",
      "1563/1563 [==============================] - 3252s 2s/step - loss: 0.9228 - accuracy: 0.6730\n",
      "Epoch 2/3\n",
      "1563/1563 [==============================] - 3160s 2s/step - loss: 0.6854 - accuracy: 0.7570\n",
      "Epoch 3/3\n",
      "1563/1563 [==============================] - 3283s 2s/step - loss: 0.6067 - accuracy: 0.7862\n"
     ]
    },
    {
     "data": {
      "text/plain": [
       "<keras.src.callbacks.History at 0x1448f1b90>"
      ]
     },
     "execution_count": 43,
     "metadata": {},
     "output_type": "execute_result"
    }
   ],
   "source": [
    "model.fit(xtrain,ytrain, epochs=3)"
   ]
  },
  {
   "cell_type": "code",
   "execution_count": 44,
   "id": "95c4e38e",
   "metadata": {},
   "outputs": [
    {
     "name": "stdout",
     "output_type": "stream",
     "text": [
      "313/313 [==============================] - 657s 2s/step - loss: 0.7480 - accuracy: 0.7390\n"
     ]
    },
    {
     "data": {
      "text/plain": [
       "[0.7480339407920837, 0.7390000224113464]"
      ]
     },
     "execution_count": 44,
     "metadata": {},
     "output_type": "execute_result"
    }
   ],
   "source": [
    "model.evaluate(xtest,ytest)"
   ]
  },
  {
   "cell_type": "code",
   "execution_count": 45,
   "id": "a23fd546",
   "metadata": {},
   "outputs": [
    {
     "name": "stdout",
     "output_type": "stream",
     "text": [
      "144/313 [============>.................] - ETA: 6:23"
     ]
    }
   ],
   "source": [
    "ypred=model.predict(xtest)\n",
    "ypred=[np.argmax(i) for i in ypred]\n",
    "cm=tf.math.confusion_matrix(ytest,ypred)\n",
    "sns.heatmap(cm, annot=True, cmap=\"coolwarm\")"
   ]
  },
  {
   "cell_type": "code",
   "execution_count": null,
   "id": "4acaf7c9",
   "metadata": {},
   "outputs": [],
   "source": []
  },
  {
   "cell_type": "code",
   "execution_count": null,
   "id": "a13b5513",
   "metadata": {},
   "outputs": [],
   "source": [
    "print(classification_report(ytest,ypred))"
   ]
  },
  {
   "cell_type": "markdown",
   "id": "c6aa73ef",
   "metadata": {},
   "source": [
    "## Transfer Learning of image calssification with MobileNet model"
   ]
  },
  {
   "cell_type": "code",
   "execution_count": null,
   "id": "e67af37c",
   "metadata": {},
   "outputs": [],
   "source": [
    "\n",
    "def MobileNet_model(image_shape=IMG_SIZE, data_augmentation=data_augmenter()):\n",
    "\n",
    "    input_shape = image_shape + (3,)\n",
    "    \n",
    "    ### START CODE HERE\n",
    "    \n",
    "    base_model = tf.keras.applications.MobileNetV2(input_shape=input_shape,\n",
    "                                                   include_top=False,\n",
    "                                                   weights='imagenet')\n",
    "    \n",
    "    # freeze the base model by making it non trainable\n",
    "    base_model.trainable = False \n",
    "\n",
    "    # create the input layer (Same as the imageNetv2 input size)\n",
    "    \n",
    "    \n",
    "    # apply data augmentation to the inputs\n",
    "    x = data_augmentation(inputs)\n",
    "    \n",
    "    # data preprocessing using the same weights the model was trained on\n",
    "    x = tf.keras.applications.mobilenet_v2.preprocess_input(x) \n",
    "    \n",
    "    # set training to False to avoid keeping track of statistics in the batch norm layer\n",
    "    x = base_model(x, training=False) \n",
    "    \n",
    "    # add the new Binary classification layers\n",
    "    # use global avg pooling to summarize the info in each channel\n",
    "    x = tfl.GlobalAveragePooling2D()(x) \n",
    "    # include dropout with probability of 0.2 to avoid overfitting\n",
    "    x = tfl.Dropout(0.2)(x)\n",
    "        \n",
    "    # use a prediction layer with one neuron (as a binary classifier only needs one)\n",
    "    outputs = tfl.Dense(1)(x)\n",
    "    \n",
    "    ### END CODE HERE\n",
    "    \n",
    "    model = tf.keras.Model(inputs, outputs)\n",
    "    \n",
    "    return model"
   ]
  },
  {
   "cell_type": "markdown",
   "id": "d66b5538",
   "metadata": {},
   "source": [
    "# Transfer Learning with MobileNetV2"
   ]
  },
  {
   "cell_type": "code",
   "execution_count": null,
   "id": "632a5134",
   "metadata": {},
   "outputs": [],
   "source": [
    "def MobileNet_model(image_shape=IMG_SIZE):\n",
    "    inputs = tf.keras.Input(shape=input_shape) \n",
    "    x = data_augmentation(inputs)\n",
    "    x = tf.keras.applications.mobilenet_v2.preprocess_input(x) \n",
    "    x= tf.keras.applications.MobileNetV2(input_shape=input_shape,\n",
    "                                                   include_top=False,\n",
    "                                                   weights='imagenet')(x)\n",
    "    x = tfl.GlobalAveragePooling2D()(x)\n",
    "    x = tfl.Dropout(0.2)(x)\n",
    "    outputs = tfl.Dense(1)(x)\n",
    "    model = tf.keras.Model(inputs, outputs)\n",
    "    return model"
   ]
  }
 ],
 "metadata": {
  "kernelspec": {
   "display_name": "Python 3 (ipykernel)",
   "language": "python",
   "name": "python3"
  },
  "language_info": {
   "codemirror_mode": {
    "name": "ipython",
    "version": 3
   },
   "file_extension": ".py",
   "mimetype": "text/x-python",
   "name": "python",
   "nbconvert_exporter": "python",
   "pygments_lexer": "ipython3",
   "version": "3.11.7"
  }
 },
 "nbformat": 4,
 "nbformat_minor": 5
}
