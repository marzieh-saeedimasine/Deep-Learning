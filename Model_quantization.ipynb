{
 "cells": [
  {
   "cell_type": "code",
   "execution_count": 26,
   "id": "b87b0d3d-4cda-4043-aa8d-4d63b6080160",
   "metadata": {},
   "outputs": [],
   "source": [
    "#!pip3 install tensorflow_model_optimization"
   ]
  },
  {
   "cell_type": "code",
   "execution_count": 25,
   "id": "3db8617d-6ae9-44a0-af4b-ef3b78ac80df",
   "metadata": {},
   "outputs": [],
   "source": [
    "import pandas as pd\n",
    "import matplotlib.pyplot as plt\n",
    "import tensorflow as tf\n",
    "from tensorflow import keras\n",
    "from keras.layers import Flatten, Dropout, Dense\n",
    "import tensorflow_model_optimization as tfmot"
   ]
  },
  {
   "cell_type": "code",
   "execution_count": 5,
   "id": "e8323b7e-0d6d-48ae-8290-fd044f66fcec",
   "metadata": {},
   "outputs": [],
   "source": [
    "(x_train,y_train),(x_test,y_test)=keras.datasets.mnist.load_data()"
   ]
  },
  {
   "cell_type": "code",
   "execution_count": 11,
   "id": "dee8d65b-181d-4e80-97de-7341a6edf9da",
   "metadata": {},
   "outputs": [],
   "source": [
    "x_train=x_train/255\n",
    "x_test=x_test/255"
   ]
  },
  {
   "cell_type": "code",
   "execution_count": 13,
   "id": "3cb81536-5bd8-4fcf-826d-a6aa2dabfec0",
   "metadata": {},
   "outputs": [
    {
     "name": "stdout",
     "output_type": "stream",
     "text": [
      "Epoch 1/5\n",
      "1875/1875 [==============================] - 4s 2ms/step - loss: 1.1944 - accuracy: 0.7179\n",
      "Epoch 2/5\n",
      "1875/1875 [==============================] - 4s 2ms/step - loss: 0.4933 - accuracy: 0.8726\n",
      "Epoch 3/5\n",
      "1875/1875 [==============================] - 3s 2ms/step - loss: 0.3862 - accuracy: 0.8942\n",
      "Epoch 4/5\n",
      "1875/1875 [==============================] - 3s 2ms/step - loss: 0.3429 - accuracy: 0.9035\n",
      "Epoch 5/5\n",
      "1875/1875 [==============================] - 4s 2ms/step - loss: 0.3179 - accuracy: 0.9094\n"
     ]
    },
    {
     "data": {
      "text/plain": [
       "<keras.src.callbacks.History at 0x169294ad0>"
      ]
     },
     "execution_count": 13,
     "metadata": {},
     "output_type": "execute_result"
    }
   ],
   "source": [
    "model=tf.keras.Sequential([\n",
    "    tf.keras.layers.Flatten(input_shape=(28,28)),\n",
    "    tf.keras.layers.Dense(100, activation='relu'),\n",
    "    tf.keras.layers.Dense(10, activation='sigmoid'),\n",
    "])\n",
    "\n",
    "model.compile(optimizer='adam',\n",
    "              loss='sparse_categorical_crossentropy',\n",
    "              metrics=['accuracy'])\n",
    "\n",
    "model.fit(x_train, y_train, epochs=5)"
   ]
  },
  {
   "cell_type": "code",
   "execution_count": 22,
   "id": "b138cc4a-f396-4d47-b089-6b4a321c9918",
   "metadata": {
    "scrolled": true
   },
   "outputs": [
    {
     "name": "stdout",
     "output_type": "stream",
     "text": [
      "INFO:tensorflow:Assets written to: ./mnist_model/assets\n"
     ]
    },
    {
     "name": "stderr",
     "output_type": "stream",
     "text": [
      "INFO:tensorflow:Assets written to: ./mnist_model/assets\n"
     ]
    }
   ],
   "source": [
    "model.save('./mnist_model')"
   ]
  },
  {
   "cell_type": "markdown",
   "id": "27c77810-e718-4ec3-8a5d-a5474fb5e859",
   "metadata": {},
   "source": [
    "# Weight Quantization + tf.Lite"
   ]
  },
  {
   "cell_type": "code",
   "execution_count": 32,
   "id": "ab64ca9c-17be-4c51-b9e3-47f831ffab27",
   "metadata": {},
   "outputs": [
    {
     "name": "stderr",
     "output_type": "stream",
     "text": [
      "2023-11-17 14:53:58.799026: W tensorflow/compiler/mlir/lite/python/tf_tfl_flatbuffer_helpers.cc:378] Ignored output_format.\n",
      "2023-11-17 14:53:58.799044: W tensorflow/compiler/mlir/lite/python/tf_tfl_flatbuffer_helpers.cc:381] Ignored drop_control_dependency.\n",
      "2023-11-17 14:53:58.799240: I tensorflow/cc/saved_model/reader.cc:83] Reading SavedModel from: ./mnist_model\n",
      "2023-11-17 14:53:58.799997: I tensorflow/cc/saved_model/reader.cc:51] Reading meta graph with tags { serve }\n",
      "2023-11-17 14:53:58.800007: I tensorflow/cc/saved_model/reader.cc:146] Reading SavedModel debug info (if present) from: ./mnist_model\n",
      "2023-11-17 14:53:58.802112: I tensorflow/cc/saved_model/loader.cc:233] Restoring SavedModel bundle.\n",
      "2023-11-17 14:53:58.832828: I tensorflow/cc/saved_model/loader.cc:217] Running initialization op on SavedModel bundle at path: ./mnist_model\n",
      "2023-11-17 14:53:58.841897: I tensorflow/cc/saved_model/loader.cc:316] SavedModel load for tags { serve }; Status: success: OK. Took 42657 microseconds.\n"
     ]
    }
   ],
   "source": [
    "converter=tf.lite.TFLiteConverter.from_saved_model(\"./mnist_model\")\n",
    "converter.optimizations = [tf.lite.Optimize.DEFAULT] \n",
    "tflite_quant_model = converter.convert()\n",
    "\n",
    "with open('tflite_quant_model.tflite', \"wb\") as f:\n",
    "    f.write(tflite_quant_model)"
   ]
  },
  {
   "cell_type": "markdown",
   "id": "b02f4c84-420b-47ce-9b9d-53476642f9da",
   "metadata": {},
   "source": [
    "# Model Quantization + Training + tf.lite"
   ]
  },
  {
   "cell_type": "code",
   "execution_count": 37,
   "id": "0f5ac700-7e2a-4e9a-87d8-d9579c93ce58",
   "metadata": {},
   "outputs": [
    {
     "name": "stdout",
     "output_type": "stream",
     "text": [
      "Model: \"sequential\"\n",
      "_________________________________________________________________\n",
      " Layer (type)                Output Shape              Param #   \n",
      "=================================================================\n",
      " quantize_layer (QuantizeLa  (None, 28, 28)            3         \n",
      " yer)                                                            \n",
      "                                                                 \n",
      " quant_flatten_1 (QuantizeW  (None, 784)               1         \n",
      " rapperV2)                                                       \n",
      "                                                                 \n",
      " quant_dense (QuantizeWrapp  (None, 100)               78505     \n",
      " erV2)                                                           \n",
      "                                                                 \n",
      " quant_dense_1 (QuantizeWra  (None, 10)                1015      \n",
      " pperV2)                                                         \n",
      "                                                                 \n",
      "=================================================================\n",
      "Total params: 79524 (310.64 KB)\n",
      "Trainable params: 79510 (310.59 KB)\n",
      "Non-trainable params: 14 (56.00 Byte)\n",
      "_________________________________________________________________\n"
     ]
    }
   ],
   "source": [
    "quantize_model=tfmot.quantization.keras.quantize_model\n",
    "q_model=quantize_model(model)\n",
    "q_model.compile(optimizer='adam',\n",
    "              loss='sparse_categorical_crossentropy',\n",
    "              metrics=['accuracy'])\n",
    "\n",
    "q_model.summary()"
   ]
  },
  {
   "cell_type": "code",
   "execution_count": 38,
   "id": "ea10dd7f-33c7-4f6b-9a6f-63b42ffd38cd",
   "metadata": {
    "scrolled": true
   },
   "outputs": [
    {
     "name": "stdout",
     "output_type": "stream",
     "text": [
      "Epoch 1/2\n",
      "1875/1875 [==============================] - 5s 2ms/step - loss: 0.3019 - accuracy: 0.9133\n",
      "Epoch 2/2\n",
      "1875/1875 [==============================] - 4s 2ms/step - loss: 0.2865 - accuracy: 0.9173\n"
     ]
    },
    {
     "data": {
      "text/plain": [
       "<keras.src.callbacks.History at 0x16d42cfd0>"
      ]
     },
     "execution_count": 38,
     "metadata": {},
     "output_type": "execute_result"
    }
   ],
   "source": [
    "q_model.fit(x_train, y_train, epochs=2)"
   ]
  },
  {
   "cell_type": "code",
   "execution_count": 39,
   "id": "9faeb742-4f47-4e80-afc1-c5b4c4c51cf9",
   "metadata": {
    "scrolled": true
   },
   "outputs": [
    {
     "name": "stdout",
     "output_type": "stream",
     "text": [
      "INFO:tensorflow:Assets written to: /var/folders/6p/5mzp7fyd4mgchv364j3jy2jr0000gn/T/tmpemjr1n9b/assets\n"
     ]
    },
    {
     "name": "stderr",
     "output_type": "stream",
     "text": [
      "INFO:tensorflow:Assets written to: /var/folders/6p/5mzp7fyd4mgchv364j3jy2jr0000gn/T/tmpemjr1n9b/assets\n",
      "/usr/local/lib/python3.11/site-packages/tensorflow/lite/python/convert.py:947: UserWarning: Statistics for quantized inputs were expected, but not specified; continuing anyway.\n",
      "  warnings.warn(\n",
      "2023-11-17 15:04:40.566592: W tensorflow/compiler/mlir/lite/python/tf_tfl_flatbuffer_helpers.cc:378] Ignored output_format.\n",
      "2023-11-17 15:04:40.566614: W tensorflow/compiler/mlir/lite/python/tf_tfl_flatbuffer_helpers.cc:381] Ignored drop_control_dependency.\n",
      "2023-11-17 15:04:40.566872: I tensorflow/cc/saved_model/reader.cc:83] Reading SavedModel from: /var/folders/6p/5mzp7fyd4mgchv364j3jy2jr0000gn/T/tmpemjr1n9b\n",
      "2023-11-17 15:04:40.569241: I tensorflow/cc/saved_model/reader.cc:51] Reading meta graph with tags { serve }\n",
      "2023-11-17 15:04:40.569253: I tensorflow/cc/saved_model/reader.cc:146] Reading SavedModel debug info (if present) from: /var/folders/6p/5mzp7fyd4mgchv364j3jy2jr0000gn/T/tmpemjr1n9b\n",
      "2023-11-17 15:04:40.575444: I tensorflow/cc/saved_model/loader.cc:233] Restoring SavedModel bundle.\n",
      "2023-11-17 15:04:40.631753: I tensorflow/cc/saved_model/loader.cc:217] Running initialization op on SavedModel bundle at path: /var/folders/6p/5mzp7fyd4mgchv364j3jy2jr0000gn/T/tmpemjr1n9b\n",
      "2023-11-17 15:04:40.651347: I tensorflow/cc/saved_model/loader.cc:316] SavedModel load for tags { serve }; Status: success: OK. Took 84476 microseconds.\n"
     ]
    }
   ],
   "source": [
    "converter=tf.lite.TFLiteConverter.from_keras_model(q_model)\n",
    "converter.optimizations = [tf.lite.Optimize.DEFAULT] \n",
    "tflite_q_aware_model = converter.convert()\n",
    "\n",
    "with open('tflite_q_aware_model.tflite', \"wb\") as f:\n",
    "    f.write(tflite_q_aware_model)"
   ]
  },
  {
   "cell_type": "code",
   "execution_count": null,
   "id": "8f62d288-b54e-459f-ac9e-b709a052123f",
   "metadata": {},
   "outputs": [],
   "source": []
  }
 ],
 "metadata": {
  "kernelspec": {
   "display_name": "Python 3 (ipykernel)",
   "language": "python",
   "name": "python3"
  },
  "language_info": {
   "codemirror_mode": {
    "name": "ipython",
    "version": 3
   },
   "file_extension": ".py",
   "mimetype": "text/x-python",
   "name": "python",
   "nbconvert_exporter": "python",
   "pygments_lexer": "ipython3",
   "version": "3.11.5"
  }
 },
 "nbformat": 4,
 "nbformat_minor": 5
}
