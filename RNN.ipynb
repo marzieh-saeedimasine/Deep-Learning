{
 "cells": [
  {
   "cell_type": "code",
   "execution_count": 13,
   "id": "4abc2b73-d522-418f-b5f3-0e958a85b149",
   "metadata": {},
   "outputs": [],
   "source": [
    "import numpy as np\n",
    "import matplotlib.pyplot as plt\n",
    "import tensorflow as tf\n",
    "from tensorflow import keras\n",
    "from keras.models import Sequential\n",
    "from keras.layers import Dense, LSTM, GRU, Flatten, Dropout"
   ]
  },
  {
   "cell_type": "code",
   "execution_count": 2,
   "id": "23bec70a-138e-4db7-86b3-94a07fbc6672",
   "metadata": {},
   "outputs": [],
   "source": [
    "(xtrain,ytrain),(xtest,ytest)=keras.datasets.mnist.load_data()"
   ]
  },
  {
   "cell_type": "code",
   "execution_count": 4,
   "id": "d7ca39ca-93a3-44ee-b41b-c92cbeb65ec0",
   "metadata": {},
   "outputs": [],
   "source": [
    "xtrain=xtrain/255\n",
    "xtest=xtest/255"
   ]
  },
  {
   "cell_type": "code",
   "execution_count": 11,
   "id": "8c427fc5-d006-4570-8935-9b628038cd8f",
   "metadata": {},
   "outputs": [
    {
     "name": "stdout",
     "output_type": "stream",
     "text": [
      "Epoch 1/5\n",
      "1875/1875 [==============================] - 68s 35ms/step - loss: 0.6984 - accuracy: 0.7654 - val_loss: 0.1825 - val_accuracy: 0.9440\n",
      "Epoch 2/5\n",
      "1875/1875 [==============================] - 60s 32ms/step - loss: 0.1653 - accuracy: 0.9555 - val_loss: 0.0975 - val_accuracy: 0.9719\n",
      "Epoch 3/5\n",
      "1875/1875 [==============================] - 66s 35ms/step - loss: 0.1120 - accuracy: 0.9708 - val_loss: 0.0926 - val_accuracy: 0.9751\n",
      "Epoch 4/5\n",
      "1875/1875 [==============================] - 69s 37ms/step - loss: 0.0893 - accuracy: 0.9762 - val_loss: 0.0573 - val_accuracy: 0.9832\n",
      "Epoch 5/5\n",
      "1875/1875 [==============================] - 54s 29ms/step - loss: 0.0693 - accuracy: 0.9821 - val_loss: 0.0731 - val_accuracy: 0.9793\n"
     ]
    },
    {
     "data": {
      "text/plain": [
       "<keras.src.callbacks.History at 0x136835f10>"
      ]
     },
     "execution_count": 11,
     "metadata": {},
     "output_type": "execute_result"
    }
   ],
   "source": [
    "model=keras.Sequential([\n",
    "    keras.layers.LSTM(128, input_shape=(xtrain.shape[1:]),activation='relu',return_sequences=True),\n",
    "    keras.layers.Dropout(0.2),\n",
    "    keras.layers.LSTM(128,activation='relu'),\n",
    "    keras.layers.Dropout(0.2),\n",
    "    keras.layers.Dense(32, activation='relu'),\n",
    "    keras.layers.Dropout(0.2),\n",
    "    keras.layers.Dense(10, activation='softmax')\n",
    "    \n",
    "])\n",
    "\n",
    "opt=tf.keras.optimizers.Adam(learning_rate=1e-3)\n",
    "model.compile(optimizer=opt ,loss='sparse_categorical_crossentropy',metrics=['accuracy'])\n",
    "model.fit(xtrain,ytrain,epochs=5, validation_data=(xtest,ytest))"
   ]
  },
  {
   "cell_type": "code",
   "execution_count": 14,
   "id": "93123f6c-0458-4973-baea-6a905c36fb5f",
   "metadata": {},
   "outputs": [
    {
     "name": "stdout",
     "output_type": "stream",
     "text": [
      "Epoch 1/2\n",
      "1875/1875 [==============================] - 41s 21ms/step - loss: 0.4847 - accuracy: 0.8384 - val_loss: 0.1043 - val_accuracy: 0.9696\n",
      "Epoch 2/2\n",
      "1875/1875 [==============================] - 41s 22ms/step - loss: 0.1322 - accuracy: 0.9654 - val_loss: 0.0894 - val_accuracy: 0.9728\n"
     ]
    },
    {
     "data": {
      "text/plain": [
       "<keras.src.callbacks.History at 0x135711b50>"
      ]
     },
     "execution_count": 14,
     "metadata": {},
     "output_type": "execute_result"
    }
   ],
   "source": [
    "model=keras.Sequential([\n",
    "    keras.layers.GRU(128, input_shape=(xtrain.shape[1:]),activation='relu',return_sequences=True),\n",
    "    keras.layers.Dropout(0.2),\n",
    "    keras.layers.GRU(128,activation='relu'),\n",
    "    keras.layers.Dropout(0.2),\n",
    "    keras.layers.Dense(32, activation='relu'),\n",
    "    keras.layers.Dropout(0.2),\n",
    "    keras.layers.Dense(10, activation='softmax')\n",
    "    \n",
    "])\n",
    "\n",
    "opt=tf.keras.optimizers.Adam(learning_rate=1e-3)\n",
    "model.compile(optimizer=opt ,loss='sparse_categorical_crossentropy',metrics=['accuracy'])\n",
    "model.fit(xtrain,ytrain,epochs=2, validation_data=(xtest,ytest))"
   ]
  },
  {
   "cell_type": "code",
   "execution_count": null,
   "id": "2d9189c8-c4a4-4feb-9a41-43ee944e46f4",
   "metadata": {},
   "outputs": [],
   "source": []
  }
 ],
 "metadata": {
  "kernelspec": {
   "display_name": "Python 3 (ipykernel)",
   "language": "python",
   "name": "python3"
  },
  "language_info": {
   "codemirror_mode": {
    "name": "ipython",
    "version": 3
   },
   "file_extension": ".py",
   "mimetype": "text/x-python",
   "name": "python",
   "nbconvert_exporter": "python",
   "pygments_lexer": "ipython3",
   "version": "3.11.5"
  }
 },
 "nbformat": 4,
 "nbformat_minor": 5
}
